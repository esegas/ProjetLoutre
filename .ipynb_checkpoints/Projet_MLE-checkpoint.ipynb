{
 "cells": [
  {
   "cell_type": "markdown",
   "metadata": {},
   "source": [
    "Author : \n",
    "Lauren Baillot\n",
    "Merlin Boyer\n",
    "Effie Segas\n",
    "\n",
    "Projet Intelligence Artificielle 3A Robotique ENSEIRB/ENSC"
   ]
  },
  {
   "cell_type": "markdown",
   "metadata": {},
   "source": [
    "Bibliothèques à importer pour le bon fonctionnement du projet"
   ]
  },
  {
   "cell_type": "code",
   "execution_count": 27,
   "metadata": {},
   "outputs": [],
   "source": [
    "%matplotlib inline\n",
    "import numpy as np\n",
    "import matplotlib.pyplot as plt\n",
    "from scipy import linalg\n",
    "from ipywidgets import *\n",
    "from IPython.display import *"
   ]
  },
  {
   "cell_type": "markdown",
   "metadata": {},
   "source": [
    "Définition de la seed"
   ]
  },
  {
   "cell_type": "code",
   "execution_count": 28,
   "metadata": {},
   "outputs": [],
   "source": [
    "def set_seed(seed=None):\n",
    "    \"\"\"Making the seed (for random values) variable if None\"\"\"\n",
    "\n",
    "    if seed is None:\n",
    "        import time\n",
    "        seed = int((time.time()*10**6) % 4294967295)\n",
    "        print(seed)\n",
    "    try:\n",
    "        np.random.seed(seed)\n",
    "        print(\"Seed used for random values:\", seed)\n",
    "    except:\n",
    "        print(\"!!! WARNING !!!: Seed was not set correctly.\")\n",
    "    return seed"
   ]
  },
  {
   "cell_type": "markdown",
   "metadata": {},
   "source": [
    "Définition de la classe contenant le réseau"
   ]
  },
  {
   "cell_type": "code",
   "execution_count": 29,
   "metadata": {},
   "outputs": [],
   "source": [
    "class Network(object):\n",
    "\n",
    "    def __init__(self, trainLen=2000, testLen=2000, initLen=100) :\n",
    "        self.initLen = initLen\n",
    "        self.trainLen = trainLen\n",
    "        self.testLen = testLen\n",
    "        self.file = open(\"text/Shakespeare.txt\", \"r\").read().replace('\\n', ' ')\n",
    "        self.resSize = 300\n",
    "        # taux de fuite alpha (desaprentissage)\n",
    "        self.a = 0.3\n",
    "        self.spectral_radius = 1.25\n",
    "        self.input_scaling = 1.\n",
    "        self.reg =  1e-8\n",
    "        self.mode = 'prediction'\n",
    "        seed = None #42\n",
    "        set_seed(seed)"
   ]
  },
  {
   "cell_type": "markdown",
   "metadata": {},
   "source": [
    "Initialisation du réseau"
   ]
  },
  {
   "cell_type": "code",
   "execution_count": 30,
   "metadata": {},
   "outputs": [
    {
     "name": "stdout",
     "output_type": "stream",
     "text": [
      "1690189031\n",
      "Seed used for random values: 1690189031\n"
     ]
    }
   ],
   "source": [
    "nw = Network()"
   ]
  },
  {
   "cell_type": "markdown",
   "metadata": {},
   "source": [
    "Traitement du texte\n",
    "\n",
    "Prend le texte\n",
    "Si keep_upper = True : respecte la casse,\n",
    "sinon transforme le texte en minuscule.\n",
    "Si keep_punctuation : garde la ponctuation,\n",
    "sinon garde le texte sans la ponctuation.\n",
    "Si keep_numbers : garde les chiffres,\n",
    "sinon garde le texte sans chiffres."
   ]
  },
  {
   "cell_type": "code",
   "execution_count": 31,
   "metadata": {},
   "outputs": [],
   "source": [
    "def filter_characters(nw, keep_upper=True, keep_punctuation=True, keep_numbers=True) :\n",
    "\n",
    "    alphabet = list(\"abcdefghijklmnopqrstuvwxyzABCDEFGHIJKLMNOPQRSTUVWXYZ0123456789 \")\n",
    "    numbers = list(\"0123456789\")\n",
    "\n",
    "    if keep_upper == False : nw.file = nw.file.lower()\n",
    "    nw.input_text = list(nw.file)\n",
    "\n",
    "    if keep_punctuation == False :\n",
    "        nw.input_text = [i for i in nw.input_text if i in alphabet]     \n",
    "\n",
    "    if keep_numbers == False :\n",
    "        nw.input_text = [i for i in nw.input_text if i not in numbers]\n",
    "    \n",
    "    return(nw)"
   ]
  },
  {
   "cell_type": "markdown",
   "metadata": {},
   "source": [
    "Adaptation de filtre caractère pour filtrer des mots"
   ]
  },
  {
   "cell_type": "code",
   "execution_count": 32,
   "metadata": {},
   "outputs": [],
   "source": [
    "def filter_words(nw, keep_upper=True, keep_punctuation=True, keep_numbers=True):\n",
    "    \n",
    "    alphabet = list(\"abcdefghijklmnopqrstuvwxyzABCDEFGHIJKLMNOPQRSTUVWXYZ0123456789 \")\n",
    "    numbers = list(\"0123456789\")\n",
    "\n",
    "    # Met le texte en minuscule si demandé\n",
    "    if not keep_upper: nw.file = nw.file.lower()\n",
    "    \n",
    "    nw.file.replace('\\n', ' ')\n",
    "\n",
    "    # Découpe le texte à chaque espace\n",
    "    nw.input_text = nw.file.split(\" \")\n",
    "    \n",
    "\n",
    "    \n",
    "    # Parcours toute la liste de mots\n",
    "    for index, words in enumerate(nw.input_text):\n",
    "        # Sort les ponctuactions\n",
    "        if not keep_punctuation:\n",
    "            nw.input_text[index] = \"\"\n",
    "            temporaire = [i for i in words if i in alphabet]\n",
    "            for element in temporaire:\n",
    "                nw.input_text[index] += str(element)\n",
    "            if nw.input_text[index] == '':\n",
    "                del nw.input_text[index]\n",
    "\n",
    "        # Sort les nombres\n",
    "        if not keep_punctuation:\n",
    "            nw.input_text[index] = \"\"\n",
    "            temporaire = [i for i in words if i in numbers]\n",
    "            for element in temporaire:\n",
    "                nw.input_text[index] += str(element)\n",
    "            if nw.input_text[index] == '':\n",
    "                del nw.input_text[index]\n",
    "\n",
    "    ## Sortir tous les espaces restant\n",
    "    for index, words in enumerate(nw.input_text):\n",
    "        if words == ' ' or words == '':\n",
    "            del nw.input_text[index]\n",
    "\n",
    "\n",
    "                \n",
    "                ### Voir si on gère les virgules et les points des nombres à virgule\n",
    "    \n",
    "    return(nw)"
   ]
  },
  {
   "cell_type": "markdown",
   "metadata": {},
   "source": [
    "Création de deux dicos :\n",
    "    input_units : clef sont les caractères et valeurs sont les positions\n",
    "    outputs_units : clef sont les valeurs et valeurs sont les caractères\n",
    "    "
   ]
  },
  {
   "cell_type": "code",
   "execution_count": 33,
   "metadata": {},
   "outputs": [],
   "source": [
    "def characters(nw) :\n",
    "    nw.input_units, nw.output_units = dict(), dict()\n",
    "    for i, item in enumerate(set(nw.input_text)) :\n",
    "        nw.input_units[item] = i\n",
    "        nw.output_units[i] = item\n",
    "    print(\"\\nCaractères existants dans le texte :\", sorted(nw.input_units),\n",
    "          \"\\nNombre de caractères différents :\", len(nw.input_units), \"\\n\")\n",
    "    return(nw)"
   ]
  },
  {
   "cell_type": "markdown",
   "metadata": {},
   "source": [
    "Adaptation characters pour mots"
   ]
  },
  {
   "cell_type": "code",
   "execution_count": 34,
   "metadata": {},
   "outputs": [],
   "source": [
    "def words(nw):\n",
    "    nw.input_units, nw.output_units = dict(), dict()\n",
    "    for i, item in enumerate(set(nw.input_text)) :\n",
    "        nw.input_units[item] = i\n",
    "        nw.output_units[i] = item\n",
    "   # print(\"\\nMots existants dans le texte :\", sorted(nw.input_units),\n",
    "   #       \"\\nNombre de mots différents :\", len(nw.input_units), \"\\n\")\n",
    "    return(nw)"
   ]
  },
  {
   "cell_type": "markdown",
   "metadata": {},
   "source": [
    "\n",
    "Parcours input_text et pour chaque caractère regarde la valeur correspondante dans\n",
    "input_units et ajoute dans data (remplace toutes les lettres par leur indices)\n",
    "Crée la taille des couches entrées et sorties\n"
   ]
  },
  {
   "cell_type": "code",
   "execution_count": 35,
   "metadata": {},
   "outputs": [],
   "source": [
    "def convert_input(nw) :\n",
    "    nw.data = np.array([nw.input_units[i] for i in nw.input_text])\n",
    "    nw.inSize = nw.outSize = len(nw.input_units)\n",
    "    return(nw)"
   ]
  },
  {
   "cell_type": "markdown",
   "metadata": {},
   "source": [
    "Fait des vecteurs binaires\n",
    "data_b : autant de ligne que de caractères dans le texte et autant de colonnes que de caractères différents dans le texte\n",
    "Puis met un 1 à l'indice correspondant au caractère."
   ]
  },
  {
   "cell_type": "code",
   "execution_count": 36,
   "metadata": {},
   "outputs": [],
   "source": [
    "def binary_data(nw) :\n",
    "    nw.data_b = np.zeros((len(nw.input_text), len(nw.input_units)))\n",
    "    for i, item in enumerate(nw.data) :\n",
    "        nw.data_b[i][item] = 1\n",
    "    return(nw)"
   ]
  },
  {
   "cell_type": "markdown",
   "metadata": {},
   "source": [
    "Adaptation pour les mots"
   ]
  },
  {
   "cell_type": "code",
   "execution_count": 37,
   "metadata": {},
   "outputs": [],
   "source": [
    "def binary_data_words(nw) :\n",
    "    nw.data_b = np.zeros((len(nw.input_text), len(nw.input_units)))\n",
    "    for i, item in enumerate(nw.data) :\n",
    "         nw.data_b[i][item] = 1\n",
    "    return(nw)"
   ]
  },
  {
   "cell_type": "markdown",
   "metadata": {},
   "source": [
    "Passage au code de ESN\n",
    "1) initialise toutes les matrices"
   ]
  },
  {
   "cell_type": "code",
   "execution_count": 38,
   "metadata": {},
   "outputs": [],
   "source": [
    "def initialization(nw) :\n",
    "    #set_seed()\n",
    "    nw.Win = (np.random.rand(nw.resSize,1+nw.inSize)-0.5) * nw.input_scaling\n",
    "    nw.W = np.random.rand(nw.resSize,nw.resSize)-0.5 \n",
    "    nw.X = np.zeros((1+nw.inSize+nw.resSize,nw.trainLen-nw.initLen))\n",
    "    nw.Ytarget = nw.data_b[nw.initLen+1:nw.trainLen+1].T\n",
    "    nw.x = np.zeros((nw.resSize,1))\n",
    "    return(nw)"
   ]
  },
  {
   "cell_type": "markdown",
   "metadata": {},
   "source": [
    "2) Calcul du rayon spectrale ( maximum des valeurs propres de la matrice des poids du réservoir)\n",
    "(fonction mettant à jour les poids)"
   ]
  },
  {
   "cell_type": "code",
   "execution_count": 39,
   "metadata": {},
   "outputs": [],
   "source": [
    "def compute_spectral_radius(nw):\n",
    "    rhoW = max(abs(linalg.eig(nw.W)[0]))\n",
    "    nw.W *= nw.spectral_radius / rhoW\n",
    "    return(nw)"
   ]
  },
  {
   "cell_type": "markdown",
   "metadata": {},
   "source": [
    "3) Entraine le réseau"
   ]
  },
  {
   "cell_type": "code",
   "execution_count": 40,
   "metadata": {},
   "outputs": [],
   "source": [
    "def train_network(nw) :\n",
    "    percent = 0.1\n",
    "    for t in range(nw.trainLen):\n",
    "        percent = progression(percent, t, nw.trainLen)\n",
    "        nw.u = nw.data_b[t%len(nw.data)]\n",
    "        nw.x = (1-nw.a)*nw.x + nw.a*np.tanh( np.dot(nw.Win, np.concatenate((np.array([1]),nw.u)).reshape(len(nw.input_units)+1,1) ) + np.dot( nw.W, nw.x ) )\n",
    "        if t >= nw.initLen :\n",
    "            nw.X[:,t-nw.initLen] = np.concatenate((np.array([1]),nw.u,nw.x[:,0])).reshape(len(nw.input_units)+nw.resSize+1,1)[:,0]      \n",
    "    return(nw)"
   ]
  },
  {
   "cell_type": "markdown",
   "metadata": {},
   "source": [
    "4) Met à jour les poids"
   ]
  },
  {
   "cell_type": "code",
   "execution_count": 41,
   "metadata": {},
   "outputs": [],
   "source": [
    "def train_output(nw) :\n",
    "    nw.X_T = nw.X.T\n",
    "    if nw.reg is not None:\n",
    "        nw.Wout = np.dot(np.dot(nw.Ytarget,nw.X_T), linalg.inv(np.dot(nw.X,nw.X_T) + \\\n",
    "            nw.reg*np.eye(1+nw.inSize+nw.resSize) ) )\n",
    "    else:\n",
    "        nw.Wout = np.dot(nw.Ytarget, linalg.pinv(nw.X) )   \n",
    "    return(nw)"
   ]
  },
  {
   "cell_type": "markdown",
   "metadata": {},
   "source": [
    "5) Test du network"
   ]
  },
  {
   "cell_type": "code",
   "execution_count": 42,
   "metadata": {},
   "outputs": [],
   "source": [
    "def test(nw) :\n",
    "    print('Testing the network... (', nw.mode, ' mode)', sep=\"\", end=\" \")\n",
    "    nw.Y = np.zeros((nw.outSize,nw.testLen))\n",
    "    nw.u = nw.data_b[nw.trainLen%len(nw.data)]\n",
    "    percent = 0.1\n",
    "    for t in range(nw.testLen):\n",
    "        percent = progression(percent, t, nw.trainLen)\n",
    "        nw.x = (1-nw.a)*nw.x + nw.a*np.tanh( np.dot(nw.Win, np.concatenate((np.array([1]),nw.u)).reshape(len(nw.input_units)+1,1)\\\n",
    "                                                   ) + np.dot(nw.W,nw.x ) )\n",
    "        nw.y = np.dot(nw.Wout, np.concatenate((np.array([1]),nw.u,nw.x[:,0])).reshape(len(nw.input_units)+nw.resSize+1,1)[:,0] )\n",
    "        nw.Y[:,t] = nw.y\n",
    "        if nw.mode == 'generative':\n",
    "            # generative mode: se sert de la sortie précédente pour générer la suivante\n",
    "            nw.u = nw.y\n",
    "        elif nw.mode == 'prediction':\n",
    "            # predictive mode: tente de prédire la sortie suivante\n",
    "            nw.u = np.zeros(len(nw.input_units))\n",
    "            nw.u[nw.data[(nw.trainLen+t+1)%len(nw.data)]] = 1\n",
    "        else:\n",
    "            raise(Exception, \"ERROR: 'mode' was not set correctly.\")\n",
    "    print('done.\\n')\n",
    "    return(nw)"
   ]
  },
  {
   "cell_type": "markdown",
   "metadata": {},
   "source": [
    "6) Calcul de la meansquare error"
   ]
  },
  {
   "cell_type": "code",
   "execution_count": 43,
   "metadata": {},
   "outputs": [],
   "source": [
    "def compute_error(nw) :\n",
    "    print(\"Computing the error...\", end=\" \")\n",
    "    errorLen = 500\n",
    "    mse = sum( np.square( nw.data[(nw.trainLen+1)%len(nw.data):(nw.trainLen+errorLen+1)%len(nw.data)] - nw.Y[0,0:errorLen] ) ) / errorLen\n",
    "    print('MSE = ' + str( mse ))\n",
    "    return(nw)"
   ]
  },
  {
   "cell_type": "markdown",
   "metadata": {},
   "source": [
    "Traduction de la sortie"
   ]
  },
  {
   "cell_type": "code",
   "execution_count": 92,
   "metadata": {},
   "outputs": [],
   "source": [
    "def convert_output(nw) :\n",
    "    nw.output_text = \"\"\n",
    "    #ajoute chaque mot généré au texte final\n",
    "    for i in range(len(nw.Y.T)) :\n",
    "        nw.output_text += nw.output_units[nw.Y.T[i].argmax()] + \" \"\n",
    "    return(nw)"
   ]
  },
  {
   "cell_type": "markdown",
   "metadata": {},
   "source": [
    "Calcul de la progression"
   ]
  },
  {
   "cell_type": "code",
   "execution_count": 45,
   "metadata": {},
   "outputs": [],
   "source": [
    "def progression(percent, i, total) :\n",
    "    if i == 0 :\n",
    "        print(\"Progress :\", end= \" \")\n",
    "        percent = 0.1\n",
    "    elif (i/total) > percent :\n",
    "        print(round(percent*100), end=\"\")\n",
    "        print(\"%\", end=\" \")\n",
    "        percent += 0.1\n",
    "    if total-i == 1 :\n",
    "        print(\"100%\")\n",
    "    return(percent)"
   ]
  },
  {
   "cell_type": "markdown",
   "metadata": {},
   "source": [
    "Applique toutes les fonctions sur le réseau"
   ]
  },
  {
   "cell_type": "code",
   "execution_count": 71,
   "metadata": {},
   "outputs": [],
   "source": [
    "def compute_network(nw, a, b, c) :\n",
    "    #nw = filter_characters(nw, a, b, c)\n",
    "    nw = filter_words(nw,a,b,c)\n",
    "    #nw = characters(nw)\n",
    "    nw = words(nw)\n",
    "    nw = convert_input(nw)\n",
    "    nw = binary_data_words(nw)\n",
    "    nw = initialization(nw)\n",
    "    nw = compute_spectral_radius(nw)\n",
    "    nw = train_network(nw)\n",
    "    nw = train_output(nw)\n",
    "    nw = test(nw) \n",
    "    #nw = compute_error(nw)\n",
    "    nw = convert_output(nw)\n",
    "    return(nw)"
   ]
  },
  {
   "cell_type": "markdown",
   "metadata": {},
   "source": [
    "Configure network"
   ]
  },
  {
   "cell_type": "code",
   "execution_count": 53,
   "metadata": {},
   "outputs": [
    {
     "name": "stdout",
     "output_type": "stream",
     "text": [
      "InitLen: 1000 TrainLen: 10000 TestLen: 2000\n",
      "ResSize: 300 Spectral Radius: 1.25 Leak Rate: 0.3\n",
      "3\n"
     ]
    },
    {
     "ename": "MemoryError",
     "evalue": "",
     "output_type": "error",
     "traceback": [
      "\u001b[0;31m---------------------------------------------------------------------------\u001b[0m",
      "\u001b[0;31mMemoryError\u001b[0m                               Traceback (most recent call last)",
      "\u001b[0;32m<ipython-input-53-b744306e1c93>\u001b[0m in \u001b[0;36m<module>\u001b[0;34m\u001b[0m\n\u001b[1;32m     50\u001b[0m \u001b[0;34m\u001b[0m\u001b[0m\n\u001b[1;32m     51\u001b[0m \u001b[0;31m#output_text = valid.on_click(record_values)\u001b[0m\u001b[0;34m\u001b[0m\u001b[0;34m\u001b[0m\u001b[0m\n\u001b[0;32m---> 52\u001b[0;31m \u001b[0moutput_text\u001b[0m \u001b[0;34m=\u001b[0m \u001b[0mrecord_values\u001b[0m\u001b[0;34m(\u001b[0m\u001b[0m_\u001b[0m\u001b[0;34m)\u001b[0m\u001b[0;34m\u001b[0m\u001b[0m\n\u001b[0m\u001b[1;32m     53\u001b[0m \u001b[0moutput_text\u001b[0m\u001b[0;34m\u001b[0m\u001b[0m\n",
      "\u001b[0;32m<ipython-input-53-b744306e1c93>\u001b[0m in \u001b[0;36mrecord_values\u001b[0;34m(_)\u001b[0m\n\u001b[1;32m     31\u001b[0m \u001b[0;34m\u001b[0m\u001b[0m\n\u001b[1;32m     32\u001b[0m     \u001b[0mprint\u001b[0m\u001b[0;34m(\u001b[0m\u001b[0mfile\u001b[0m\u001b[0;34m)\u001b[0m\u001b[0;34m\u001b[0m\u001b[0m\n\u001b[0;32m---> 33\u001b[0;31m     \u001b[0mcompute_network\u001b[0m\u001b[0;34m(\u001b[0m\u001b[0mnw\u001b[0m\u001b[0;34m,\u001b[0m \u001b[0mvar1\u001b[0m\u001b[0;34m.\u001b[0m\u001b[0mvalue\u001b[0m\u001b[0;34m,\u001b[0m \u001b[0mvar2\u001b[0m\u001b[0;34m.\u001b[0m\u001b[0mvalue\u001b[0m\u001b[0;34m,\u001b[0m \u001b[0mvar3\u001b[0m\u001b[0;34m.\u001b[0m\u001b[0mvalue\u001b[0m\u001b[0;34m)\u001b[0m\u001b[0;34m\u001b[0m\u001b[0m\n\u001b[0m\u001b[1;32m     34\u001b[0m     \u001b[0;32mreturn\u001b[0m\u001b[0;34m(\u001b[0m\u001b[0mnw\u001b[0m\u001b[0;34m.\u001b[0m\u001b[0moutput_text\u001b[0m\u001b[0;34m)\u001b[0m\u001b[0;34m\u001b[0m\u001b[0m\n\u001b[1;32m     35\u001b[0m \u001b[0;34m\u001b[0m\u001b[0m\n",
      "\u001b[0;32m<ipython-input-46-46ee56756ed9>\u001b[0m in \u001b[0;36mcompute_network\u001b[0;34m(nw, a, b, c)\u001b[0m\n\u001b[1;32m      5\u001b[0m     \u001b[0mnw\u001b[0m \u001b[0;34m=\u001b[0m \u001b[0mwords\u001b[0m\u001b[0;34m(\u001b[0m\u001b[0mnw\u001b[0m\u001b[0;34m)\u001b[0m\u001b[0;34m\u001b[0m\u001b[0m\n\u001b[1;32m      6\u001b[0m     \u001b[0mnw\u001b[0m \u001b[0;34m=\u001b[0m \u001b[0mconvert_input\u001b[0m\u001b[0;34m(\u001b[0m\u001b[0mnw\u001b[0m\u001b[0;34m)\u001b[0m\u001b[0;34m\u001b[0m\u001b[0m\n\u001b[0;32m----> 7\u001b[0;31m     \u001b[0mnw\u001b[0m \u001b[0;34m=\u001b[0m \u001b[0mbinary_data_words\u001b[0m\u001b[0;34m(\u001b[0m\u001b[0mnw\u001b[0m\u001b[0;34m)\u001b[0m\u001b[0;34m\u001b[0m\u001b[0m\n\u001b[0m\u001b[1;32m      8\u001b[0m     \u001b[0mnw\u001b[0m \u001b[0;34m=\u001b[0m \u001b[0minitialization\u001b[0m\u001b[0;34m(\u001b[0m\u001b[0mnw\u001b[0m\u001b[0;34m)\u001b[0m\u001b[0;34m\u001b[0m\u001b[0m\n\u001b[1;32m      9\u001b[0m     \u001b[0mnw\u001b[0m \u001b[0;34m=\u001b[0m \u001b[0mcompute_spectral_radius\u001b[0m\u001b[0;34m(\u001b[0m\u001b[0mnw\u001b[0m\u001b[0;34m)\u001b[0m\u001b[0;34m\u001b[0m\u001b[0m\n",
      "\u001b[0;32m<ipython-input-37-44aca20b5e15>\u001b[0m in \u001b[0;36mbinary_data_words\u001b[0;34m(nw)\u001b[0m\n\u001b[1;32m      1\u001b[0m \u001b[0;32mdef\u001b[0m \u001b[0mbinary_data_words\u001b[0m\u001b[0;34m(\u001b[0m\u001b[0mnw\u001b[0m\u001b[0;34m)\u001b[0m \u001b[0;34m:\u001b[0m\u001b[0;34m\u001b[0m\u001b[0m\n\u001b[0;32m----> 2\u001b[0;31m     \u001b[0mnw\u001b[0m\u001b[0;34m.\u001b[0m\u001b[0mdata_b\u001b[0m \u001b[0;34m=\u001b[0m \u001b[0mnp\u001b[0m\u001b[0;34m.\u001b[0m\u001b[0mzeros\u001b[0m\u001b[0;34m(\u001b[0m\u001b[0;34m(\u001b[0m\u001b[0mlen\u001b[0m\u001b[0;34m(\u001b[0m\u001b[0mnw\u001b[0m\u001b[0;34m.\u001b[0m\u001b[0minput_text\u001b[0m\u001b[0;34m)\u001b[0m\u001b[0;34m,\u001b[0m \u001b[0mlen\u001b[0m\u001b[0;34m(\u001b[0m\u001b[0mnw\u001b[0m\u001b[0;34m.\u001b[0m\u001b[0minput_units\u001b[0m\u001b[0;34m)\u001b[0m\u001b[0;34m)\u001b[0m\u001b[0;34m)\u001b[0m\u001b[0;34m\u001b[0m\u001b[0m\n\u001b[0m\u001b[1;32m      3\u001b[0m     \u001b[0;32mfor\u001b[0m \u001b[0mi\u001b[0m\u001b[0;34m,\u001b[0m \u001b[0mitem\u001b[0m \u001b[0;32min\u001b[0m \u001b[0menumerate\u001b[0m\u001b[0;34m(\u001b[0m\u001b[0mnw\u001b[0m\u001b[0;34m.\u001b[0m\u001b[0mdata\u001b[0m\u001b[0;34m)\u001b[0m \u001b[0;34m:\u001b[0m\u001b[0;34m\u001b[0m\u001b[0m\n\u001b[1;32m      4\u001b[0m          \u001b[0mnw\u001b[0m\u001b[0;34m.\u001b[0m\u001b[0mdata_b\u001b[0m\u001b[0;34m[\u001b[0m\u001b[0mi\u001b[0m\u001b[0;34m]\u001b[0m\u001b[0;34m[\u001b[0m\u001b[0mitem\u001b[0m\u001b[0;34m]\u001b[0m \u001b[0;34m=\u001b[0m \u001b[0;36m1\u001b[0m\u001b[0;34m\u001b[0m\u001b[0m\n\u001b[1;32m      5\u001b[0m     \u001b[0;32mreturn\u001b[0m\u001b[0;34m(\u001b[0m\u001b[0mnw\u001b[0m\u001b[0;34m)\u001b[0m\u001b[0;34m\u001b[0m\u001b[0m\n",
      "\u001b[0;31mMemoryError\u001b[0m: "
     ]
    }
   ],
   "source": [
    "select_mode = ToggleButtons(description='Mode:', options=['prediction', 'generative'])\n",
    "text = Dropdown(description='Text:', options={\"Shakespeare (4 573 338 chars.)\" : 1, \"Sherlock Holmes (3 868 223 chars)\" : 2,\n",
    "                                                   \"Harry Potter and the Sorcerer's Stone (439 743 chars.)\" : 3,\n",
    "                                                   \"Harry Potter and the Prisoner of Azkaban (611 584 chars.)\" : 4}, value = 3)\n",
    "var1 = Checkbox(description='Keep upper case letters?',value=True,)\n",
    "var2 = Checkbox(description='Keep punctuation?',value=True,)\n",
    "var3 = Checkbox(description='Keep numbers?',value=True,)\n",
    "var4 = FloatSlider(value=300, min=0, max=5000, step=1, description='resSize')\n",
    "var5 = FloatText(value=1000, description='initLen')\n",
    "var6 = FloatText(value=10000, description='trainLen')\n",
    "var7 = FloatText(value=2000, description='testLen')\n",
    "var8 = FloatSlider(value=1.25, min=0, max=10, step=0.05, description='spectral radius')\n",
    "var9 = FloatSlider(value=0.3, min=0, max=1, step=0.01, description='leak rate')\n",
    "valid = Button(description='Validate')\n",
    "\n",
    "def record_values(_):\n",
    "    clear_output()\n",
    "    nw.mode=select_mode.value\n",
    "    file = text.value\n",
    "    texts = [\"Shakespeare.txt\", \"SherlockHolmes.txt\", \"HarryPotter1.txt\", \"HarryPotter3.txt\"]\n",
    "    nw.file = open(\"text/\"+texts[file-1], \"r\").read().replace('\\n', ' ')\n",
    "    nw.resSize=int(var4.value)\n",
    "    nw.initLen=int(var5.value)\n",
    "    nw.trainLen=int(var6.value)\n",
    "    nw.testLen=int(var7.value)\n",
    "    nw.spectral_radius=float(var8.value)\n",
    "    nw.a=float(var9.value)\n",
    "    \n",
    "    print(\"InitLen:\", nw.initLen, \"TrainLen:\", nw.trainLen, \"TestLen:\", nw.testLen) \n",
    "    print(\"ResSize:\", nw.resSize, \"Spectral Radius:\", nw.spectral_radius, \"Leak Rate:\", nw.a)\n",
    "    \n",
    "    print(file)\n",
    "    compute_network(nw, var1.value, var2.value, var3.value)\n",
    "    return(nw.output_text)\n",
    "\n",
    "display(select_mode)\n",
    "display(text)\n",
    "display(var1)\n",
    "display(var2)\n",
    "display(var3)\n",
    "display(var4)\n",
    "display(var5)\n",
    "display(var6)\n",
    "display(var7)\n",
    "display(var8)\n",
    "display(var9)\n",
    "display(valid)\n",
    "\n",
    "output_text = valid.on_click(record_values)"
   ]
  },
  {
   "cell_type": "markdown",
   "metadata": {},
   "source": [
    "Montrer le texte"
   ]
  },
  {
   "cell_type": "code",
   "execution_count": 22,
   "metadata": {},
   "outputs": [
    {
     "data": {
      "application/vnd.jupyter.widget-view+json": {
       "model_id": "cc3efb3631194c349f68edf81b1c2698",
       "version_major": 2,
       "version_minor": 0
      },
      "text/plain": [
       "Button(description='Show the output!', style=ButtonStyle())"
      ]
     },
     "metadata": {},
     "output_type": "display_data"
    }
   ],
   "source": [
    "valid3 = Button(description='Show the output!')\n",
    "\n",
    "def show_output(_) :\n",
    "    print(nw.output_text)\n",
    "\n",
    "display(valid3)\n",
    "valid3.on_click(show_output)"
   ]
  },
  {
   "cell_type": "markdown",
   "metadata": {},
   "source": [
    "Adapatation de show_output pour mots"
   ]
  },
  {
   "cell_type": "code",
   "execution_count": 23,
   "metadata": {},
   "outputs": [
    {
     "data": {
      "application/vnd.jupyter.widget-view+json": {
       "model_id": "2a6440d4ac7c4c82b124c998f6c99b7a",
       "version_major": 2,
       "version_minor": 0
      },
      "text/plain": [
       "Button(description='Show the output!', style=ButtonStyle())"
      ]
     },
     "metadata": {},
     "output_type": "display_data"
    }
   ],
   "source": [
    "valid3 = Button(description='Show the output!')\n",
    "\n",
    "def show_output(_) :\n",
    "    print(nw.output_text)\n",
    "\n",
    "display(valid3)\n",
    "valid3.on_click(show_output)"
   ]
  },
  {
   "cell_type": "markdown",
   "metadata": {},
   "source": [
    "Affichage des caractères dans le texte"
   ]
  },
  {
   "cell_type": "code",
   "execution_count": 24,
   "metadata": {},
   "outputs": [
    {
     "data": {
      "application/vnd.jupyter.widget-view+json": {
       "model_id": "389d8b8861cc44c2a9f7c70f8d366120",
       "version_major": 2,
       "version_minor": 0
      },
      "text/plain": [
       "FloatText(value=1000.0, description='Number of chars')"
      ]
     },
     "metadata": {},
     "output_type": "display_data"
    },
    {
     "data": {
      "application/vnd.jupyter.widget-view+json": {
       "model_id": "6c83857513c54136a2c77122c9373ebe",
       "version_major": 2,
       "version_minor": 0
      },
      "text/plain": [
       "Button(description='Validate', style=ButtonStyle())"
      ]
     },
     "metadata": {},
     "output_type": "display_data"
    }
   ],
   "source": [
    "var10 = FloatText(value=1000, description='Number of chars')\n",
    "valid2 = Button(description='Validate')\n",
    "        \n",
    "def trace_graph1(_) :\n",
    "    clear_output()\n",
    "    plt.figure(1).clear()\n",
    "    limit = np.arange(int(var10.value))\n",
    "    plt.plot(limit,nw.data[0:int(var10.value)], 'ro')\n",
    "    plt.title('Characters throughout the text')\n",
    "    \n",
    "valid2.on_click(trace_graph1)\n",
    "    \n",
    "display(var10)\n",
    "display(valid2)"
   ]
  },
  {
   "cell_type": "code",
   "execution_count": 25,
   "metadata": {},
   "outputs": [
    {
     "name": "stdout",
     "output_type": "stream",
     "text": [
      "['le', 'chat', 'chat', 'est', 'dans', 'cuisines.\\n']\n",
      "\n",
      "Mots existants dans le texte : ['chat', 'cuisines.\\n', 'dans', 'est', 'le'] \n",
      "Nombre de mots différents : 5 \n",
      "\n",
      "{'cuisines.\\n': 4, 'dans': 1, 'chat': 2, 'le': 3, 'est': 0}\n",
      "{0: 'est', 1: 'dans', 2: 'chat', 3: 'le', 4: 'cuisines.\\n'}\n",
      "[3 2 2 0 1 4]\n"
     ]
    }
   ],
   "source": [
    "import numpy as np\n",
    "\n",
    "mots = \"Le CHAT chat est dans 5 cuisines.\\n\"\n",
    "\n",
    "\n",
    "keep_upper=False\n",
    "keep_punctuation=False\n",
    "keep_numbers=False \n",
    "keep_spaces=True\n",
    "    \n",
    "alphabet = list(\"abcdefghijklmnopqrstuvwxyzABCDEFGHIJKLMNOPQRSTUVWXYZ0123456789 \")\n",
    "numbers = list(\"0123456789\")\n",
    "\n",
    "# Met le texte en minuscule si demandé\n",
    "if not keep_upper: mots = mots.lower()\n",
    "    \n",
    "# Remplace saut de ligne par espace\n",
    "mots.replace('\\n', ' ')\n",
    "# Découpe le texte à chaque espace\n",
    "temp = mots.split(\" \")\n",
    "    \n",
    "# Parcours toute la liste de mots\n",
    "for index, words in enumerate(temp):\n",
    "    # Sort les ponctuactions\n",
    "    if not keep_punctuation:\n",
    "        temp[index] = \"\"\n",
    "        temporaire = [i for i in words if i in alphabet]\n",
    "        for element in temporaire:\n",
    "            temp[index] += str(element)\n",
    "        if temp[index] == '':\n",
    "            del temp[index]\n",
    "            \n",
    "\n",
    "    # Sort les nombres\n",
    "    if not keep_numbers:\n",
    "        temp[index] = \"\"\n",
    "        temporaire = [i for i in words if i not in numbers]\n",
    "        for element in temporaire:\n",
    "            temp[index] += str(element)\n",
    "        if temp[index] == '':\n",
    "            del temp[index]\n",
    "    \n",
    "print(temp)\n",
    "\n",
    "input_units, output_units = dict(), dict()\n",
    "for i, item in enumerate(set(temp)) :\n",
    "    input_units[item] = i\n",
    "    output_units[i] = item\n",
    "print(\"\\nMots existants dans le texte :\", sorted(input_units),\n",
    "        \"\\nNombre de mots différents :\", len(input_units), \"\\n\")\n",
    "\n",
    "print(input_units)\n",
    "print(output_units)\n",
    "\n",
    "data = np.array([input_units[i] for i in temp])\n",
    "inSize = outSize = len(input_units)\n",
    "\n",
    "print(data)"
   ]
  },
  {
   "cell_type": "code",
   "execution_count": 26,
   "metadata": {},
   "outputs": [
    {
     "ename": "AttributeError",
     "evalue": "'Network' object has no attribute 'input_text'",
     "output_type": "error",
     "traceback": [
      "\u001b[0;31m---------------------------------------------------------------------------\u001b[0m",
      "\u001b[0;31mAttributeError\u001b[0m                            Traceback (most recent call last)",
      "\u001b[0;32m<ipython-input-26-ac2bc0bb7570>\u001b[0m in \u001b[0;36m<module>\u001b[0;34m\u001b[0m\n\u001b[0;32m----> 1\u001b[0;31m \u001b[0mprint\u001b[0m\u001b[0;34m(\u001b[0m\u001b[0mlen\u001b[0m\u001b[0;34m(\u001b[0m\u001b[0mnw\u001b[0m\u001b[0;34m.\u001b[0m\u001b[0minput_text\u001b[0m\u001b[0;34m)\u001b[0m\u001b[0;34m)\u001b[0m\u001b[0;34m\u001b[0m\u001b[0m\n\u001b[0m\u001b[1;32m      2\u001b[0m \u001b[0mprint\u001b[0m\u001b[0;34m(\u001b[0m\u001b[0mlen\u001b[0m\u001b[0;34m(\u001b[0m\u001b[0mnw\u001b[0m\u001b[0;34m.\u001b[0m\u001b[0minput_units\u001b[0m\u001b[0;34m)\u001b[0m\u001b[0;34m)\u001b[0m\u001b[0;34m\u001b[0m\u001b[0m\n\u001b[1;32m      3\u001b[0m \u001b[0mprint\u001b[0m\u001b[0;34m(\u001b[0m\u001b[0mnw\u001b[0m\u001b[0;34m.\u001b[0m\u001b[0minput_units\u001b[0m\u001b[0;34m)\u001b[0m\u001b[0;34m\u001b[0m\u001b[0m\n\u001b[1;32m      4\u001b[0m \u001b[0mnw\u001b[0m\u001b[0;34m.\u001b[0m\u001b[0mdata_b\u001b[0m \u001b[0;34m=\u001b[0m \u001b[0mnp\u001b[0m\u001b[0;34m.\u001b[0m\u001b[0mzeros\u001b[0m\u001b[0;34m(\u001b[0m\u001b[0;34m(\u001b[0m\u001b[0;36m1\u001b[0m\u001b[0;34m,\u001b[0m\u001b[0mlen\u001b[0m\u001b[0;34m(\u001b[0m\u001b[0mnw\u001b[0m\u001b[0;34m.\u001b[0m\u001b[0minput_units\u001b[0m\u001b[0;34m)\u001b[0m\u001b[0;34m)\u001b[0m\u001b[0;34m)\u001b[0m\u001b[0;34m\u001b[0m\u001b[0m\n\u001b[1;32m      5\u001b[0m \u001b[0;34m\u001b[0m\u001b[0m\n",
      "\u001b[0;31mAttributeError\u001b[0m: 'Network' object has no attribute 'input_text'"
     ]
    }
   ],
   "source": [
    "print(len(nw.input_text))\n",
    "print(len(nw.input_units))\n",
    "print(nw.input_units)\n",
    "nw.data_b = np.zeros((1,len(nw.input_units)))\n",
    "\n",
    "nw.data_b\n",
    "\n",
    "nw.data_b = np.zeros((len(nw.input_text), len(nw.input_units)))\n"
   ]
  },
  {
   "cell_type": "code",
   "execution_count": null,
   "metadata": {},
   "outputs": [],
   "source": [
    "file = open(\"text/Shakespeare.txt\", \"r\").read().replace('\\n', ' ')\n",
    "\n",
    "file.replace('\\n', ' ')\n",
    "\n",
    "text = file.split(' ')\n",
    "text"
   ]
  },
  {
   "cell_type": "markdown",
   "metadata": {},
   "source": [
    "test merlin"
   ]
  },
  {
   "cell_type": "code",
   "execution_count": 109,
   "metadata": {},
   "outputs": [
    {
     "name": "stdout",
     "output_type": "stream",
     "text": [
      "433418497\n",
      "Seed used for random values: 433418497\n",
      "InitLen: 150 TrainLen: 4400 TestLen: 150\n",
      "ResSize: 1 Spectral Radius: 2 Leak Rate: 0.3\n",
      "Progress : 10% 20% 30% 40% 50% 60% 70% 80% 90% 100%\n",
      "Testing the network... (prediction mode) Progress : done.\n",
      "\n"
     ]
    },
    {
     "data": {
      "text/plain": [
       "'de   de de   de la question de Ces de              de de de                  de                 de de             de de de de de               de de                   de               de de de de de mis de les certain quelconque, de certain en de le -- le ne été '"
      ]
     },
     "execution_count": 109,
     "metadata": {},
     "output_type": "execute_result"
    }
   ],
   "source": [
    "select_mode = ToggleButtons(description='Mode:', options=['prediction', 'generative'])\n",
    "text = Dropdown(description='Text:', options={\"Shakespeare (4 573 338 chars.)\" : 1, \n",
    "                                              \"Sherlock Holmes (3 868 223 chars)\" : 2,\n",
    "                                              \"Harry Potter and the Sorcerer's Stone (439 743 chars.)\" : 3,\n",
    "                                              \"Harry Potter and the Prisoner of Azkaban (611 584 chars.)\" : 4\n",
    "                                             }, value = 3)\n",
    "\n",
    "var1 = Checkbox(description='Keep upper case letters?',value=True,)\n",
    "var2 = Checkbox(description='Keep punctuation?',value=True,)\n",
    "var3 = Checkbox(description='Keep numbers?',value=True,)\n",
    "var4 = FloatSlider(value=300, min=0, max=5000, step=1, description='resSize')\n",
    "var5 = FloatText(value=1000, description='initLen')\n",
    "var6 = FloatText(value=10000, description='trainLen')\n",
    "var7 = FloatText(value=2000, description='testLen')\n",
    "var8 = FloatSlider(value=1.25, min=0, max=10, step=0.05, description='spectral radius')\n",
    "var9 = FloatSlider(value=0.3, min=0, max=1, step=0.01, description='leak rate')\n",
    "valid = Button(description='Validate')\n",
    "\n",
    "def generate_text():\n",
    "    clear_output()\n",
    "    nw = Network()\n",
    "    nw.mode = select_mode.value\n",
    "    nw.file = open(\"text/JulesVerne2.txt\", \"r\").read().replace('\\n', ' ')\n",
    "    #nw.file = \"i am groot. i am effie. i am lauren. i am merlin\"\n",
    "    nw.resSize= 1\n",
    "    nw.initLen= 150\n",
    "    nw.trainLen= 3000\n",
    "    nw.testLen= 150\n",
    "    nw.spectral_radius= 2\n",
    "    nw.a= 0.3\n",
    "    \n",
    "    print(\"InitLen:\", nw.initLen, \"TrainLen:\", nw.trainLen, \"TestLen:\", nw.testLen) \n",
    "    print(\"ResSize:\", nw.resSize, \"Spectral Radius:\", nw.spectral_radius, \"Leak Rate:\", nw.a)\n",
    "    \n",
    "    \n",
    "    nw = filter_words(nw,True,True,True)\n",
    "    nw = words(nw)\n",
    "    nw = convert_input(nw)\n",
    "    nw = binary_data_words(nw)\n",
    "    nw = initialization(nw)\n",
    "    nw = compute_spectral_radius(nw)\n",
    "    nw = train_network(nw)\n",
    "    nw = train_output(nw)\n",
    "    nw = test(nw) \n",
    "    #nw = compute_error(nw)\n",
    "    nw = convert_output(nw)\n",
    "    return(nw.output_text)\n",
    "\n",
    "output_text = generate_text()\n",
    "output_text"
   ]
  },
  {
   "cell_type": "code",
   "execution_count": null,
   "metadata": {},
   "outputs": [],
   "source": []
  },
  {
   "cell_type": "code",
   "execution_count": null,
   "metadata": {},
   "outputs": [],
   "source": []
  },
  {
   "cell_type": "code",
   "execution_count": null,
   "metadata": {},
   "outputs": [],
   "source": []
  }
 ],
 "metadata": {
  "kernelspec": {
   "display_name": "Python 3",
   "language": "python",
   "name": "python3"
  },
  "language_info": {
   "codemirror_mode": {
    "name": "ipython",
    "version": 3
   },
   "file_extension": ".py",
   "mimetype": "text/x-python",
   "name": "python",
   "nbconvert_exporter": "python",
   "pygments_lexer": "ipython3",
   "version": "3.5.2"
  }
 },
 "nbformat": 4,
 "nbformat_minor": 2
}
